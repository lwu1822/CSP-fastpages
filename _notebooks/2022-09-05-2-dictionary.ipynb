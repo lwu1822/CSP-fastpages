{
 "cells": [
  {
   "cell_type": "markdown",
   "metadata": {},
   "source": [
    "# Dictionary\n",
    "> Dictionary\n",
    "\n",
    "- toc: true \n",
    "- badges: true\n",
    "- comments: true\n",
    "- categories: [python]"
   ]
  },
  {
   "cell_type": "markdown",
   "metadata": {},
   "source": [
    "Variables belong to a certain data type. Examples that we have seen before include: int, string, and bool.\n",
    "\n",
    "Lists and dictionaries are also types. "
   ]
  },
  {
   "cell_type": "code",
   "execution_count": 17,
   "metadata": {},
   "outputs": [
    {
     "name": "stdout",
     "output_type": "stream",
     "text": [
      "Lily Wu\n",
      "\t Birthday 🥳: July 24\n",
      "\t Favorite books: Salt to the Sea, Sherlock Holmes\n",
      "\t Favorite food: Shrimp\n",
      "\t Hobbies: Reading\n",
      "\t Sports played:  none\n",
      "Giannina Ortega Rico\n",
      "\t Birthday 🥳: March 9\n",
      "\t Favorite books: none\n",
      "\t Favorite food: none\n",
      "\t Hobbies: Reading, watching TV\n",
      "\t Sports played:  none\n"
     ]
    }
   ],
   "source": [
    "InfoDb = []\n",
    "\n",
    "# InfoDB is a data structure with expected Keys and Values\n",
    "\n",
    "# Append to List a Dictionary of key/values related to a person and cars\n",
    "InfoDb.append({\n",
    "    \"FirstName\": \"Lily\",\n",
    "    \"LastName\": \"Wu\",\n",
    "    \"DOB\": \"July 24\",\n",
    "    \"Favorite books\": [\"Salt to the Sea\", \"Sherlock Holmes\"],\n",
    "    \"Favorite food\": \"Shrimp\",\n",
    "    \"Hobbies\": [\"Reading\"],\n",
    "    \"Sports played\": [\"none\"]   \n",
    "})\n",
    "\n",
    "InfoDb.append({\n",
    "    \"FirstName\": \"Giannina\",\n",
    "    \"LastName\": \"Ortega Rico\",\n",
    "    \"DOB\": \"March 9\",\n",
    "    \"Favorite books\": [\"none\"],\n",
    "    \"Favorite food\": \"none\", \n",
    "    \"Hobbies\": [\"Reading\", \"watching TV\"],\n",
    "    \"Sports played\": [\"none\"]   \n",
    "})\n",
    "\n",
    "\n",
    "\n",
    "def print_data(d_rec):\n",
    "    print(d_rec[\"FirstName\"], d_rec[\"LastName\"])  # using comma puts space between values\n",
    "    print(\"\\t\", \"Birthday 🥳:\", d_rec[\"DOB\"]) # \\t is a tab indent\n",
    "    print(\"\\t\", \"Favorite books: \", end=\"\")\n",
    "    print(\", \".join(d_rec[\"Favorite books\"]))\n",
    "    print(\"\\t\", \"Favorite food:\", d_rec[\"Favorite food\"])\n",
    "    print(\"\\t\", \"Hobbies: \", end=\"\")\n",
    "    print(\", \".join(d_rec[\"Hobbies\"]))   \n",
    "    print(\"\\t\", \"Sports played:  \", end=\"\")\n",
    "    print(\", \".join(d_rec[\"Sports played\"]))  \n",
    "\n",
    "def for_loop():\n",
    "    for i in range(len(InfoDb)):\n",
    "        record = InfoDb[i]\n",
    "        print_data(record)\n",
    "        i += 1\n",
    "    return\n",
    "\n",
    "for_loop()\n"
   ]
  }
 ],
 "metadata": {
  "kernelspec": {
   "display_name": "Python 3.9.12 ('base')",
   "language": "python",
   "name": "python3"
  },
  "language_info": {
   "codemirror_mode": {
    "name": "ipython",
    "version": 3
   },
   "file_extension": ".py",
   "mimetype": "text/x-python",
   "name": "python",
   "nbconvert_exporter": "python",
   "pygments_lexer": "ipython3",
   "version": "3.9.12"
  },
  "orig_nbformat": 4,
  "vscode": {
   "interpreter": {
    "hash": "f260b6b3ae1ef2114af89aa0dee38d5682df0763aaac2870f1e656463369401e"
   }
  }
 },
 "nbformat": 4,
 "nbformat_minor": 2
}
