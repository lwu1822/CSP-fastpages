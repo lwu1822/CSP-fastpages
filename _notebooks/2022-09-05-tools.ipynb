{
 "cells": [
  {
   "cell_type": "markdown",
   "metadata": {},
   "source": [
    "# Tools\n",
    "> Seeing if tools are installed.\n",
    "\n",
    "- toc: true \n",
    "- badges: true\n",
    "- comments: true\n",
    "- categories: [bash]"
   ]
  },
  {
   "cell_type": "markdown",
   "metadata": {},
   "source": [
    "# Basic commands\n",
    "\n",
    "`ls`: Lists the contents in the current directory\n",
    "\n",
    "`cd [file path]`: Move to a directory\n",
    "\n",
    "`pwd`: List your current directory"
   ]
  },
  {
   "cell_type": "code",
   "execution_count": 6,
   "metadata": {
    "vscode": {
     "languageId": "shellscript"
    }
   },
   "outputs": [
    {
     "name": "stdout",
     "output_type": "stream",
     "text": [
      "Moving to home directory with the cd command\n",
      "What directory am I in?\n",
      "/home/lwu1822\n",
      "Moving to my vscode directory\n",
      "What directory am I in?\n",
      "/home/lwu1822/vscode\n",
      "What files are within this directory?\n",
      "\u001b[0m\u001b[01;34mAPCSA\u001b[0m  \u001b[01;34mAPCSP\u001b[0m  \u001b[01;34mfastpages\u001b[0m  \u001b[01;34mspring_portfolio\u001b[0m  \u001b[01;34mtest\u001b[0m\n"
     ]
    }
   ],
   "source": [
    "echo \"Moving to home directory with the cd command\"\n",
    "cd \n",
    "echo \"What directory am I in?\"\n",
    "pwd \n",
    "echo \"Moving to my vscode directory\"\n",
    "cd /home/lwu1822/vscode\n",
    "echo \"What directory am I in?\"\n",
    "pwd\n",
    "echo \"What files are within this directory?\"\n",
    "ls"
   ]
  },
  {
   "cell_type": "markdown",
   "metadata": {},
   "source": [
    "# Variables\n",
    "\n",
    "To create variables, simply assign a value to a variable name.\n",
    "\n",
    "Ex: `x=5`\n",
    "\n",
    "Reference variables with `$[var]`"
   ]
  },
  {
   "cell_type": "code",
   "execution_count": 8,
   "metadata": {
    "vscode": {
     "languageId": "shellscript"
    }
   },
   "outputs": [
    {
     "name": "stdout",
     "output_type": "stream",
     "text": [
      "Hello World!\n"
     ]
    }
   ],
   "source": [
    "text=\"Hello World!\"\n",
    "echo \"$text\""
   ]
  },
  {
   "cell_type": "markdown",
   "metadata": {},
   "source": [
    "**Note: Single and double quotes are different!**\n",
    "\n",
    "*See example below*"
   ]
  },
  {
   "cell_type": "code",
   "execution_count": 9,
   "metadata": {
    "vscode": {
     "languageId": "shellscript"
    }
   },
   "outputs": [
    {
     "name": "stdout",
     "output_type": "stream",
     "text": [
      "Hello World!\n",
      "$text\n"
     ]
    }
   ],
   "source": [
    "text=\"Hello World!\"\n",
    "echo \"$text\"\n",
    "echo '$text'"
   ]
  },
  {
   "cell_type": "markdown",
   "metadata": {},
   "source": [
    "<br>\n",
    "\n",
    "### What does `export` do?\n",
    "\n",
    "While going through the [Bash Tutorial](https://nighthawkcoders.github.io/APCSP/techtalk/bash), I noticed that variables were declared with the `export` command, ex: `export x=5`.\n",
    "\n",
    "I wondered what the difference was between `export`, and straight up declaring the variable, like this: `x=5`.\n",
    "\n",
    "The answer is simple. Quoting from [Super User](https://superuser.com/questions/153371/what-does-export-do-in-bash) (a community in Stack Exchange), \"Exported variables get passed on to child processes, not-exported variables do not.\""
   ]
  },
  {
   "cell_type": "markdown",
   "metadata": {},
   "source": [
    "# Python versions"
   ]
  },
  {
   "cell_type": "code",
   "execution_count": 22,
   "metadata": {
    "vscode": {
     "languageId": "shellscript"
    }
   },
   "outputs": [
    {
     "name": "stdout",
     "output_type": "stream",
     "text": [
      "Python 3.9.12\n",
      "Python 2.7.18\n"
     ]
    }
   ],
   "source": [
    "python --version\n",
    "python2 --version"
   ]
  },
  {
   "cell_type": "markdown",
   "metadata": {},
   "source": [
    "# Playing with some Regex"
   ]
  },
  {
   "cell_type": "code",
   "execution_count": 15,
   "metadata": {
    "vscode": {
     "languageId": "shellscript"
    }
   },
   "outputs": [
    {
     "name": "stdout",
     "output_type": "stream",
     "text": [
      "Check for packages starting with 'j' and ends with the letter 's'\n",
      "\u001b[01;31m\u001b[Kjupyterlab_pygments\u001b[m\u001b[K\n",
      "\u001b[01;31m\u001b[Kjupyterlab_widgets\u001b[m\u001b[K\n"
     ]
    }
   ],
   "source": [
    "echo \"Check for packages starting with 'j' and ends with the letter 's'\"\n",
    "# What this bash script does:\n",
    "# Checks if there is output after grep (searching) for packages starting\n",
    "# with 'j' and ending with 's'\n",
    "\n",
    "# First lists all conda packages, then filters to only show the package\n",
    "# names (excludes Version and Build Channel) with the cut command\n",
    "\n",
    "# The grep command uses some fun Regex\n",
    "# ^ means that the character following it (in parenthesis) must start at the\n",
    "# beginning\n",
    "# .*: \".\"\" means any character, \"*\" means match the character before it\n",
    "# any number of times -> \".*\" means match any character any number of times\n",
    "# $: Character before it (s) must be at the end\n",
    "if conda list | cut -d \" \" -f 1 | grep \"^j.*s$\" ; then\n",
    "    :\n",
    "else\n",
    "    echo \"No packages starting with 'j' and ending with 's'\"\n",
    "fi"
   ]
  },
  {
   "cell_type": "markdown",
   "metadata": {},
   "source": [
    "# Jupyter Check"
   ]
  },
  {
   "cell_type": "code",
   "execution_count": 3,
   "metadata": {
    "vscode": {
     "languageId": "shellscript"
    }
   },
   "outputs": [
    {
     "name": "stdout",
     "output_type": "stream",
     "text": [
      "Selected Jupyter core packages...\n",
      "IPython          : 8.2.0\n",
      "ipykernel        : 6.9.1\n",
      "ipywidgets       : 7.6.5\n",
      "jupyter_client   : 6.1.12\n",
      "jupyter_core     : 4.9.2\n",
      "jupyter_server   : 1.13.5\n",
      "jupyterlab       : 3.3.2\n",
      "nbclient         : 0.5.13\n",
      "nbconvert        : 6.4.4\n",
      "nbformat         : 5.3.0\n",
      "notebook         : 6.4.8\n",
      "qtconsole        : 5.3.0\n",
      "traitlets        : 5.1.1\n",
      "Available kernels:\n",
      "  bash          /home/lwu1822/.local/share/jupyter/kernels/bash\n",
      "  java          /home/lwu1822/.local/share/jupyter/kernels/java\n",
      "  javascript    /home/lwu1822/.local/share/jupyter/kernels/javascript\n",
      "  python3       /home/lwu1822/anaconda3/share/jupyter/kernels/python3\n"
     ]
    }
   ],
   "source": [
    "jupyter --version\n",
    "jupyter kernelspec list"
   ]
  },
  {
   "cell_type": "markdown",
   "metadata": {},
   "source": [
    "# Conda check for Jupyter"
   ]
  },
  {
   "cell_type": "code",
   "execution_count": 3,
   "metadata": {
    "vscode": {
     "languageId": "shellscript"
    }
   },
   "outputs": [
    {
     "name": "stdout",
     "output_type": "stream",
     "text": [
      "\u001b[01;31m\u001b[Kjupyter\u001b[m\u001b[K                   1.0.0            py39h06a4308_7  \n",
      "\u001b[01;31m\u001b[Kjupyter\u001b[m\u001b[K_client            6.1.12             pyhd3eb1b0_0  \n",
      "\u001b[01;31m\u001b[Kjupyter\u001b[m\u001b[K_console           6.4.0              pyhd3eb1b0_0  \n",
      "\u001b[01;31m\u001b[Kjupyter\u001b[m\u001b[K_core              4.9.2            py39h06a4308_0  \n",
      "\u001b[01;31m\u001b[Kjupyter\u001b[m\u001b[K_server            1.13.5             pyhd3eb1b0_0  \n",
      "\u001b[01;31m\u001b[Kjupyter\u001b[m\u001b[Klab                3.3.2              pyhd3eb1b0_0  \n",
      "\u001b[01;31m\u001b[Kjupyter\u001b[m\u001b[Klab_pygments       0.1.2                      py_0  \n",
      "\u001b[01;31m\u001b[Kjupyter\u001b[m\u001b[Klab_server         2.10.3             pyhd3eb1b0_1  \n",
      "\u001b[01;31m\u001b[Kjupyter\u001b[m\u001b[Klab_widgets        1.0.0              pyhd3eb1b0_1  \n"
     ]
    }
   ],
   "source": [
    "conda list | grep jupyter "
   ]
  },
  {
   "cell_type": "markdown",
   "metadata": {},
   "source": [
    "###### (I have checked Slack :))"
   ]
  },
  {
   "cell_type": "code",
   "execution_count": 5,
   "metadata": {
    "vscode": {
     "languageId": "shellscript"
    }
   },
   "outputs": [
    {
     "name": "stdout",
     "output_type": "stream",
     "text": [
      "  python3       /home/lwu1822/anaconda3/share/jupyter/kernels/python3\n"
     ]
    }
   ],
   "source": [
    "# test for a kernel installation\n",
    "test=\"python3\" # keyword\n",
    "check=`jupyter kernelspec list | grep $test` # run command\n",
    "n=${#check} # determine length\n",
    "if [[ ${n} > 0 ]];  # testt length\n",
    "then # greater than zero\n",
    "    echo \"$check\"\n",
    "else # less than zero\n",
    "    echo \"$check\"\n",
    "fi"
   ]
  },
  {
   "cell_type": "markdown",
   "metadata": {},
   "source": [
    "<br>\n",
    "\n",
    "# Directories\n",
    "\n",
    "Check if the APCSP repo exists in /home/lwu1822/vscode/hack. If not, clone the APCSP repo into the directory. "
   ]
  },
  {
   "cell_type": "code",
   "execution_count": 8,
   "metadata": {
    "vscode": {
     "languageId": "shellscript"
    }
   },
   "outputs": [
    {
     "name": "stdout",
     "output_type": "stream",
     "text": [
      "APCSP repo does not exist in this directory\n",
      "Cloning APCSP repo\n",
      "Cloning into 'APCSP'...\n",
      "remote: Enumerating objects: 10655, done.\u001b[K\n",
      "remote: Counting objects: 100% (2230/2230), done.\u001b[K\n",
      "remote: Compressing objects: 100% (774/774), done.\u001b[K\n",
      "remote: Total 10655 (delta 1382), reused 2178 (delta 1331), pack-reused 8425\u001b[K\n",
      "Receiving objects: 100% (10655/10655), 17.37 MiB | 2.26 MiB/s, done.\n",
      "Resolving deltas: 100% (5877/5877), done.\n"
     ]
    }
   ],
   "source": [
    "cd /home/lwu1822/vscode/hack\n",
    "\n",
    "if [ ! -d APCSP ] ; then \n",
    "    echo \"APCSP repo does not exist in this directory\"\n",
    "    echo \"Cloning APCSP repo\"\n",
    "    git clone \"https://github.com/nighthawkcoders/APCSP.git\"\n",
    "else \n",
    "    echo \"APCSP repo does exist in this directory\"\n",
    "fi \n"
   ]
  },
  {
   "cell_type": "markdown",
   "metadata": {},
   "source": [
    "<br>\n",
    "\n",
    "Check again to see if APCSP directory exists."
   ]
  },
  {
   "cell_type": "code",
   "execution_count": 11,
   "metadata": {
    "vscode": {
     "languageId": "shellscript"
    }
   },
   "outputs": [
    {
     "name": "stdout",
     "output_type": "stream",
     "text": [
      "Listing /home/lwu1822/vscode/hack\n",
      "\u001b[0m\u001b[01;34mAPCSP\u001b[0m  \u001b[01;32mfoo.sh\u001b[0m  \u001b[01;32mtest.sh\u001b[0m\n",
      "Does APCSP repo exist in this directory?\n",
      "APCSP repo does exist in this directory\n"
     ]
    }
   ],
   "source": [
    "#collapse-hide\n",
    "\n",
    "cd /home/lwu1822/vscode/hack\n",
    "\n",
    "echo \"Listing /home/lwu1822/vscode/hack\"\n",
    "ls \n",
    "\n",
    "echo \"Does APCSP repo exist in this directory?\"\n",
    "\n",
    "if [ ! -d APCSP ] ; then \n",
    "    echo \"APCSP repo does not exist in this directory\"\n",
    "    echo \"Cloning APCSP repo\"\n",
    "    git clone \"https://github.com/nighthawkcoders/APCSP.git\"\n",
    "else \n",
    "    echo \"APCSP repo does exist in this directory\"\n",
    "fi "
   ]
  },
  {
   "cell_type": "markdown",
   "metadata": {},
   "source": [
    "<br>\n",
    "\n",
    "# Hacks"
   ]
  },
  {
   "cell_type": "markdown",
   "metadata": {},
   "source": [
    "To verify tools:\n",
    "\n",
    "For many packages, you can type the name of the package and then `--version`, or you can grep from the `dpkg -l` list"
   ]
  },
  {
   "cell_type": "code",
   "execution_count": 17,
   "metadata": {
    "vscode": {
     "languageId": "shellscript"
    }
   },
   "outputs": [
    {
     "name": "stdout",
     "output_type": "stream",
     "text": [
      "Python 3.9.12\n",
      "\u001b[01;31m\u001b[Kpython2\u001b[m\u001b[K\n",
      "\u001b[01;31m\u001b[Kpython3\u001b[m\u001b[K\n"
     ]
    }
   ],
   "source": [
    "python --version\n",
    "dpkg -l | cut -d \" \" -f 3 | grep -E \"^(python)([0-9])+$\""
   ]
  },
  {
   "cell_type": "markdown",
   "metadata": {},
   "source": [
    "To verify Conda, you can use the `conda list` command. I'm not going to do this here because the output is huge, but you can see [above](https://lwu1822.github.io/fastpages/bash/2022/08/26/tools.html#Playing-with-some-Regex) where I used regex and grep to search for the specific things I want"
   ]
  },
  {
   "cell_type": "markdown",
   "metadata": {},
   "source": [
    "<br>\n",
    "To update a repository, first move into the directory of your repository, and update with `git pull origin master`."
   ]
  },
  {
   "cell_type": "code",
   "execution_count": 18,
   "metadata": {
    "vscode": {
     "languageId": "shellscript"
    }
   },
   "outputs": [
    {
     "name": "stdout",
     "output_type": "stream",
     "text": [
      "\u001b[0m\u001b[01;35m2022-05-15-07-21-16.png\u001b[0m  \u001b[01;32mREADME.md\u001b[0m        \u001b[01;34m_notebooks\u001b[0m  \u001b[01;34massets\u001b[0m\n",
      "\u001b[01;35m2022-05-15-07-24-25.png\u001b[0m  \u001b[01;34m_action_files\u001b[0m    \u001b[01;34m_pages\u001b[0m      \u001b[01;32mdocker-compose.yml\u001b[0m\n",
      "\u001b[01;35m2022-05-15-07-25-15.png\u001b[0m  _config.yml      \u001b[01;34m_plugins\u001b[0m    \u001b[01;34mimages\u001b[0m\n",
      "\u001b[01;32mGemfile\u001b[0m                  \u001b[01;34m_fastpages_docs\u001b[0m  \u001b[01;34m_posts\u001b[0m      index.html\n",
      "LICENSE                  \u001b[01;34m_includes\u001b[0m        \u001b[01;34m_sass\u001b[0m\n",
      "\u001b[01;32mMakefile\u001b[0m                 \u001b[01;34m_layouts\u001b[0m         \u001b[01;34m_word\u001b[0m\n"
     ]
    }
   ],
   "source": [
    "main_dir=vscode/\n",
    "fastpages_dir=CSP-fastpages/\n",
    "cd \n",
    "cd $main_dir/$fastpages_dir\n",
    "ls\n",
    "# git pull origin master"
   ]
  },
  {
   "cell_type": "markdown",
   "metadata": {},
   "source": [
    "<br>\n",
    "\n",
    "Automation\n",
    "\n",
    "*I'm not going to run the code cell, because Bash input doesn't work in Jupyter Notebook for some reason. I'll attach a picture though, to show that it works*"
   ]
  },
  {
   "cell_type": "code",
   "execution_count": null,
   "metadata": {
    "vscode": {
     "languageId": "shellscript"
    }
   },
   "outputs": [],
   "source": [
    "echo \"What package would you like to check? Make sure to type out the full exact name of the package, as it would show in dpkg -l output\"\n",
    "\n",
    "read pkg \n",
    "\n",
    "\n",
    "if dpkg -l | grep $pkg  >/dev/null 2>&1 ; then \n",
    "    echo \"Package is installed!\"\n",
    "else \n",
    "    echo \"Would you like to install the package? y/n\"\n",
    "    read install\n",
    "\n",
    "    if [ $install == \"y\" ] ; then \n",
    "        echo \"Installing\"\n",
    "        apt-get install -y $pkg \n",
    "    else \n",
    "        echo \"Alright then!\"\n",
    "    fi \n",
    "fi "
   ]
  },
  {
   "cell_type": "markdown",
   "metadata": {},
   "source": [
    "![](my_icons/w1-bash-automation.png \"It works!\")"
   ]
  }
 ],
 "metadata": {
  "kernelspec": {
   "display_name": "Bash",
   "language": "bash",
   "name": "bash"
  },
  "language_info": {
   "codemirror_mode": "shell",
   "file_extension": ".sh",
   "mimetype": "text/x-sh",
   "name": "bash"
  }
 },
 "nbformat": 4,
 "nbformat_minor": 2
}
