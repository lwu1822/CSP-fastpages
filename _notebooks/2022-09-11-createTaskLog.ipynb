{
 "cells": [
  {
   "cell_type": "markdown",
   "metadata": {},
   "source": [
    "# Create Performance Task\n",
    "> Blogging my create task\n",
    "\n",
    "- toc: true \n",
    "- badges: true\n",
    "- comments: true\n",
    "- categories: [create-performance-task]"
   ]
  },
  {
   "cell_type": "markdown",
   "metadata": {},
   "source": [
    "# Notes\n",
    "\n",
    "I watched this [video](https://www.youtube.com/watch?v=LfzpMASeNHg) and [this](https://www.youtube.com/watch?v=h51o7IqY4vQ) to learn more about the requirements for the create task.\n",
    "\n",
    "Some notes that I took down for future reference:\n",
    "\n",
    "* The code can be written in any programming language that satisfies the requirements. \n",
    "\n",
    "* Requirements include having: input, list that manages complexity, procedure with algorithm, a call to the procedure, and output\n",
    "\n",
    "* A video demonstrating the code will also be required. Within the video, you will need to show at least one input and output and the program's function.\n",
    "\n",
    "<br>\n",
    "Speaking of functions, there is a difference between the word \"function\" and \"purpose\":\n",
    "\n",
    "* Purpose: The problem that is being solved/something that you pursue for a creative interest\n",
    "\n",
    "* Function: How the program acts when you run it\n",
    "\n",
    "<br>\n",
    "While we're at it, some other vocab that I was unfamiliar with {% fn 1 %}:\n",
    "\n",
    "* Procedure: Same thing as function\n",
    "\n",
    "* Algorithm: \n",
    "\n"
   ]
  },
  {
   "cell_type": "markdown",
   "metadata": {},
   "source": [
    "{{ '[Paraphrased from CollegeBoard Create Task Rubric](https://apcentral.collegeboard.org/media/pdf/ap-computer-science-principles-2021-create-performance-task-scoring-guidelines.pdf)' | fndetail: 1 }}"
   ]
  }
 ],
 "metadata": {
  "kernelspec": {
   "display_name": "Python 3.8.10 64-bit",
   "language": "python",
   "name": "python3"
  },
  "language_info": {
   "name": "python",
   "version": "3.8.10"
  },
  "orig_nbformat": 4,
  "vscode": {
   "interpreter": {
    "hash": "916dbcbb3f70747c44a77c7bcd40155683ae19c65e1c03b4aa3499c5328201f1"
   }
  }
 },
 "nbformat": 4,
 "nbformat_minor": 2
}
