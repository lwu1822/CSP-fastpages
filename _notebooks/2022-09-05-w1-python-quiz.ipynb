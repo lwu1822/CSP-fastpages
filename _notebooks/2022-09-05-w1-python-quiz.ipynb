{
 "cells": [
  {
   "cell_type": "markdown",
   "metadata": {},
   "source": [
    "# Python Quiz\n",
    "> Python quiz\n",
    "\n",
    "- toc: true \n",
    "- badges: true\n",
    "- comments: true\n",
    "- categories: [python]"
   ]
  },
  {
   "cell_type": "code",
   "execution_count": 22,
   "metadata": {},
   "outputs": [
    {
     "name": "stdout",
     "output_type": "stream",
     "text": [
      "Welcome lwu1822. Your Python shell is currently running on the path: /home/lwu1822/anaconda3/bin/python\n",
      "What is it called when something does not change?\n",
      "Answer: static text\n",
      "Correct!\n",
      "What is the Python command that allows user input?\n",
      "Answer: input\n",
      "Correct!\n",
      "What do you use to combine different data types within the print statement?\n",
      "Answer: concatenation\n",
      "Correct!\n",
      "What command is used to include other functions that were previously developed?\n",
      "Answer: import\n",
      "Correct!\n",
      "What command is used to evaluate correct or incorrect response in this example?\n",
      "Answer: if\n",
      "Correct!\n",
      "Each 'if' command contains an '_________' to determine a true or false condition?\n",
      "Answer: expression\n",
      "Correct!\n",
      "Your total score is: 6\n"
     ]
    }
   ],
   "source": [
    "import getpass,sys\n",
    "\n",
    "print(\"Welcome \" + getpass.getuser() + \". Your Python shell is currently running on the path: \" + sys.executable)\n",
    "\n",
    "questions = [\"What is it called when something does not change?\", \"What is the Python command that allows user input?\", \"What do you use to combine different data types within the print statement?\", \"What command is used to include other functions that were previously developed?\", \"What command is used to evaluate correct or incorrect response in this example?\", \"Each 'if' command contains an '_________' to determine a true or false condition?\"]\n",
    "answers = [\"static text\", \"input\", \"concatenation\", \"import\", \"if\", \"expression\"]\n",
    "\n",
    "questionNum = 6\n",
    "score = 0\n",
    "\n",
    "for i in range(questionNum):\n",
    "    print(questions[i]) # This is solely so that the user can see the questions in the Jupyter Notebook output\n",
    "    response = input(questions[i])\n",
    "    print(\"Answer: \" + response) # Again, to show the output\n",
    "    if response == answers[i]:\n",
    "        print(\"Correct!\")\n",
    "        score += 1\n",
    "    else:\n",
    "        print(\"Incorrect\")\n",
    "    \n",
    "print(\"Your total score is: \" + str(score))\n"
   ]
  },
  {
   "cell_type": "markdown",
   "metadata": {},
   "source": [
    "## How the rest of this post will be structured\n",
    "\n",
    "This post captures my learnings from this [page](https://nighthawkcoders.github.io/APCSP/collegeboard/python).\n",
    "\n",
    "I will first document my learnings, and then display the code and its output below.\n",
    "\n",
    "<br>"
   ]
  },
  {
   "cell_type": "markdown",
   "metadata": {},
   "source": [
    "In programming languages, a lot of the things within parenthesis are called <mark>parameters</mark>.\n",
    "\n",
    "For example, in the code below, `Hello World!` would be an argument.\n",
    "\n",
    "Static text: Text that stays the same."
   ]
  },
  {
   "cell_type": "code",
   "execution_count": 2,
   "metadata": {},
   "outputs": [
    {
     "name": "stdout",
     "output_type": "stream",
     "text": [
      "Hello World!\n"
     ]
    }
   ],
   "source": [
    "print(\"Hello World!\")"
   ]
  },
  {
   "cell_type": "markdown",
   "metadata": {},
   "source": [
    "<br>\n",
    "\n",
    "## Input and output"
   ]
  },
  {
   "cell_type": "code",
   "execution_count": 4,
   "metadata": {},
   "outputs": [
    {
     "name": "stdout",
     "output_type": "stream",
     "text": [
      "hi :)\n"
     ]
    }
   ],
   "source": [
    "usr_input = input(\"Enter some text: \")\n",
    "print(usr_input)"
   ]
  },
  {
   "cell_type": "markdown",
   "metadata": {},
   "source": [
    "<br>\n",
    "\n",
    "## Function\n",
    "\n",
    "**Note: Indentation matters in Python**\n",
    "\n",
    "When creating a function, make sure to indent to tell Python which lines of code belong within the function (since Python does not use curly braces delineate functions)."
   ]
  }
 ],
 "metadata": {
  "kernelspec": {
   "display_name": "Python 3.9.12 ('base')",
   "language": "python",
   "name": "python3"
  },
  "language_info": {
   "codemirror_mode": {
    "name": "ipython",
    "version": 3
   },
   "file_extension": ".py",
   "mimetype": "text/x-python",
   "name": "python",
   "nbconvert_exporter": "python",
   "pygments_lexer": "ipython3",
   "version": "3.9.12"
  },
  "orig_nbformat": 4,
  "vscode": {
   "interpreter": {
    "hash": "f260b6b3ae1ef2114af89aa0dee38d5682df0763aaac2870f1e656463369401e"
   }
  }
 },
 "nbformat": 4,
 "nbformat_minor": 2
}
